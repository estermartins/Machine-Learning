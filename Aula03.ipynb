{
  "nbformat": 4,
  "nbformat_minor": 0,
  "metadata": {
    "colab": {
      "name": "Aula03.ipynb",
      "version": "0.3.2",
      "provenance": [],
      "include_colab_link": true
    },
    "kernelspec": {
      "name": "python3",
      "display_name": "Python 3"
    }
  },
  "cells": [
    {
      "cell_type": "markdown",
      "metadata": {
        "id": "view-in-github",
        "colab_type": "text"
      },
      "source": [
        "<a href=\"https://colab.research.google.com/github/estermartins/Machine-Learning/blob/master/Aula03.ipynb\" target=\"_parent\"><img src=\"https://colab.research.google.com/assets/colab-badge.svg\" alt=\"Open In Colab\"/></a>"
      ]
    },
    {
      "metadata": {
        "id": "ITbg2xSk99Zn",
        "colab_type": "code",
        "colab": {
          "base_uri": "https://localhost:8080/",
          "height": 119
        },
        "outputId": "f3d69f41-237d-442d-f4b8-2da9b1712920"
      },
      "cell_type": "code",
      "source": [
        "import pandas as pd\n",
        "import statsmodels.formula.api as sms\n",
        "import matplotlib.pyplot as plt\n",
        "import numpy as np\n",
        "%matplotlib inline\n",
        "\n",
        "# Lê os dados\n",
        "credit = pd.read_csv(\"http://www-bcf.usc.edu/~gareth/ISL/Credit.csv\")\n",
        "# Tira a primeira coluna\n",
        "print(credit.columns)\n",
        "credit = credit.drop(columns=['Unnamed: 0'])\n",
        "# Após retirar coluna com índices...\n",
        "print(credit.columns)"
      ],
      "execution_count": 2,
      "outputs": [
        {
          "output_type": "stream",
          "text": [
            "Index(['Unnamed: 0', 'Income', 'Limit', 'Rating', 'Cards', 'Age', 'Education',\n",
            "       'Gender', 'Student', 'Married', 'Ethnicity', 'Balance'],\n",
            "      dtype='object')\n",
            "Index(['Income', 'Limit', 'Rating', 'Cards', 'Age', 'Education', 'Gender',\n",
            "       'Student', 'Married', 'Ethnicity', 'Balance'],\n",
            "      dtype='object')\n"
          ],
          "name": "stdout"
        }
      ]
    },
    {
      "metadata": {
        "id": "JgoAfkFoA5e2",
        "colab_type": "code",
        "colab": {
          "base_uri": "https://localhost:8080/",
          "height": 204
        },
        "outputId": "045b9937-27a1-4f6c-b9a2-37cceb6093cb"
      },
      "cell_type": "code",
      "source": [
        "credit.head()"
      ],
      "execution_count": 3,
      "outputs": [
        {
          "output_type": "execute_result",
          "data": {
            "text/html": [
              "<div>\n",
              "<style scoped>\n",
              "    .dataframe tbody tr th:only-of-type {\n",
              "        vertical-align: middle;\n",
              "    }\n",
              "\n",
              "    .dataframe tbody tr th {\n",
              "        vertical-align: top;\n",
              "    }\n",
              "\n",
              "    .dataframe thead th {\n",
              "        text-align: right;\n",
              "    }\n",
              "</style>\n",
              "<table border=\"1\" class=\"dataframe\">\n",
              "  <thead>\n",
              "    <tr style=\"text-align: right;\">\n",
              "      <th></th>\n",
              "      <th>Income</th>\n",
              "      <th>Limit</th>\n",
              "      <th>Rating</th>\n",
              "      <th>Cards</th>\n",
              "      <th>Age</th>\n",
              "      <th>Education</th>\n",
              "      <th>Gender</th>\n",
              "      <th>Student</th>\n",
              "      <th>Married</th>\n",
              "      <th>Ethnicity</th>\n",
              "      <th>Balance</th>\n",
              "    </tr>\n",
              "  </thead>\n",
              "  <tbody>\n",
              "    <tr>\n",
              "      <th>0</th>\n",
              "      <td>14.891</td>\n",
              "      <td>3606</td>\n",
              "      <td>283</td>\n",
              "      <td>2</td>\n",
              "      <td>34</td>\n",
              "      <td>11</td>\n",
              "      <td>Male</td>\n",
              "      <td>No</td>\n",
              "      <td>Yes</td>\n",
              "      <td>Caucasian</td>\n",
              "      <td>333</td>\n",
              "    </tr>\n",
              "    <tr>\n",
              "      <th>1</th>\n",
              "      <td>106.025</td>\n",
              "      <td>6645</td>\n",
              "      <td>483</td>\n",
              "      <td>3</td>\n",
              "      <td>82</td>\n",
              "      <td>15</td>\n",
              "      <td>Female</td>\n",
              "      <td>Yes</td>\n",
              "      <td>Yes</td>\n",
              "      <td>Asian</td>\n",
              "      <td>903</td>\n",
              "    </tr>\n",
              "    <tr>\n",
              "      <th>2</th>\n",
              "      <td>104.593</td>\n",
              "      <td>7075</td>\n",
              "      <td>514</td>\n",
              "      <td>4</td>\n",
              "      <td>71</td>\n",
              "      <td>11</td>\n",
              "      <td>Male</td>\n",
              "      <td>No</td>\n",
              "      <td>No</td>\n",
              "      <td>Asian</td>\n",
              "      <td>580</td>\n",
              "    </tr>\n",
              "    <tr>\n",
              "      <th>3</th>\n",
              "      <td>148.924</td>\n",
              "      <td>9504</td>\n",
              "      <td>681</td>\n",
              "      <td>3</td>\n",
              "      <td>36</td>\n",
              "      <td>11</td>\n",
              "      <td>Female</td>\n",
              "      <td>No</td>\n",
              "      <td>No</td>\n",
              "      <td>Asian</td>\n",
              "      <td>964</td>\n",
              "    </tr>\n",
              "    <tr>\n",
              "      <th>4</th>\n",
              "      <td>55.882</td>\n",
              "      <td>4897</td>\n",
              "      <td>357</td>\n",
              "      <td>2</td>\n",
              "      <td>68</td>\n",
              "      <td>16</td>\n",
              "      <td>Male</td>\n",
              "      <td>No</td>\n",
              "      <td>Yes</td>\n",
              "      <td>Caucasian</td>\n",
              "      <td>331</td>\n",
              "    </tr>\n",
              "  </tbody>\n",
              "</table>\n",
              "</div>"
            ],
            "text/plain": [
              "    Income  Limit  Rating  Cards  Age  Education  Gender Student Married  \\\n",
              "0   14.891   3606     283      2   34         11    Male      No     Yes   \n",
              "1  106.025   6645     483      3   82         15  Female     Yes     Yes   \n",
              "2  104.593   7075     514      4   71         11    Male      No      No   \n",
              "3  148.924   9504     681      3   36         11  Female      No      No   \n",
              "4   55.882   4897     357      2   68         16    Male      No     Yes   \n",
              "\n",
              "   Ethnicity  Balance  \n",
              "0  Caucasian      333  \n",
              "1      Asian      903  \n",
              "2      Asian      580  \n",
              "3      Asian      964  \n",
              "4  Caucasian      331  "
            ]
          },
          "metadata": {
            "tags": []
          },
          "execution_count": 3
        }
      ]
    },
    {
      "metadata": {
        "id": "0r4LlsvABOFB",
        "colab_type": "code",
        "colab": {
          "base_uri": "https://localhost:8080/",
          "height": 442
        },
        "outputId": "17f3b92a-a064-4bf9-e474-14512833c2b8"
      },
      "cell_type": "code",
      "source": [
        "model1 = sms.ols(formula=\"Balance~Gender\", data=credit).fit()\n",
        "print(model1.summary())\n",
        "\n",
        "# R2 = modelo péssimo = 0.000\n",
        "# nao tem diferença em divida de credito"
      ],
      "execution_count": 6,
      "outputs": [
        {
          "output_type": "stream",
          "text": [
            "                            OLS Regression Results                            \n",
            "==============================================================================\n",
            "Dep. Variable:                Balance   R-squared:                       0.000\n",
            "Model:                            OLS   Adj. R-squared:                 -0.002\n",
            "Method:                 Least Squares   F-statistic:                    0.1836\n",
            "Date:                Mon, 11 Mar 2019   Prob (F-statistic):              0.669\n",
            "Time:                        23:12:40   Log-Likelihood:                -3019.3\n",
            "No. Observations:                 400   AIC:                             6043.\n",
            "Df Residuals:                     398   BIC:                             6051.\n",
            "Df Model:                           1                                         \n",
            "Covariance Type:            nonrobust                                         \n",
            "==================================================================================\n",
            "                     coef    std err          t      P>|t|      [0.025      0.975]\n",
            "----------------------------------------------------------------------------------\n",
            "Intercept        529.5362     31.988     16.554      0.000     466.649     592.423\n",
            "Gender[T.Male]   -19.7331     46.051     -0.429      0.669    -110.267      70.801\n",
            "==============================================================================\n",
            "Omnibus:                       28.438   Durbin-Watson:                   1.940\n",
            "Prob(Omnibus):                  0.000   Jarque-Bera (JB):               27.346\n",
            "Skew:                           0.583   Prob(JB):                     1.15e-06\n",
            "Kurtosis:                       2.471   Cond. No.                         2.58\n",
            "==============================================================================\n",
            "\n",
            "Warnings:\n",
            "[1] Standard Errors assume that the covariance matrix of the errors is correctly specified.\n"
          ],
          "name": "stdout"
        }
      ]
    },
    {
      "metadata": {
        "id": "sYgTuzn2DeNI",
        "colab_type": "code",
        "colab": {
          "base_uri": "https://localhost:8080/",
          "height": 459
        },
        "outputId": "7491f323-a2dd-4658-fe7b-3765a7f7f46c"
      },
      "cell_type": "code",
      "source": [
        "model2 = sms.ols(formula=\"Balance~Ethnicity\",data=credit).fit()\n",
        "print(model2.summary())\n",
        "# R2 = modelo péssimo = 0.000\n",
        "# diferença é estatisticamente igual a 0(zero)"
      ],
      "execution_count": 9,
      "outputs": [
        {
          "output_type": "stream",
          "text": [
            "                            OLS Regression Results                            \n",
            "==============================================================================\n",
            "Dep. Variable:                Balance   R-squared:                       0.000\n",
            "Model:                            OLS   Adj. R-squared:                 -0.005\n",
            "Method:                 Least Squares   F-statistic:                   0.04344\n",
            "Date:                Mon, 11 Mar 2019   Prob (F-statistic):              0.957\n",
            "Time:                        23:22:25   Log-Likelihood:                -3019.3\n",
            "No. Observations:                 400   AIC:                             6045.\n",
            "Df Residuals:                     397   BIC:                             6057.\n",
            "Df Model:                           2                                         \n",
            "Covariance Type:            nonrobust                                         \n",
            "==========================================================================================\n",
            "                             coef    std err          t      P>|t|      [0.025      0.975]\n",
            "------------------------------------------------------------------------------------------\n",
            "Intercept                531.0000     46.319     11.464      0.000     439.939     622.061\n",
            "Ethnicity[T.Asian]       -18.6863     65.021     -0.287      0.774    -146.515     109.142\n",
            "Ethnicity[T.Caucasian]   -12.5025     56.681     -0.221      0.826    -123.935      98.930\n",
            "==============================================================================\n",
            "Omnibus:                       28.829   Durbin-Watson:                   1.946\n",
            "Prob(Omnibus):                  0.000   Jarque-Bera (JB):               27.395\n",
            "Skew:                           0.581   Prob(JB):                     1.13e-06\n",
            "Kurtosis:                       2.460   Cond. No.                         4.39\n",
            "==============================================================================\n",
            "\n",
            "Warnings:\n",
            "[1] Standard Errors assume that the covariance matrix of the errors is correctly specified.\n"
          ],
          "name": "stdout"
        }
      ]
    },
    {
      "metadata": {
        "id": "eSajRjKKFzGE",
        "colab_type": "code",
        "colab": {
          "base_uri": "https://localhost:8080/",
          "height": 68
        },
        "outputId": "a4ce819c-9a43-4221-f2ab-ad96ef8d43d2"
      },
      "cell_type": "code",
      "source": [
        "print(credit.columns)"
      ],
      "execution_count": 10,
      "outputs": [
        {
          "output_type": "stream",
          "text": [
            "Index(['Income', 'Limit', 'Rating', 'Cards', 'Age', 'Education', 'Gender',\n",
            "       'Student', 'Married', 'Ethnicity', 'Balance'],\n",
            "      dtype='object')\n"
          ],
          "name": "stdout"
        }
      ]
    },
    {
      "metadata": {
        "id": "OAfhrBqdF7p0",
        "colab_type": "code",
        "colab": {
          "base_uri": "https://localhost:8080/",
          "height": 646
        },
        "outputId": "c7d31606-4322-4913-89a9-d3d688a975b1"
      },
      "cell_type": "code",
      "source": [
        "model3 = sms.ols(formula= \"Balance~Income+Limit+Rating+Cards+Age+Education+Gender+Student+Married+Ethnicity\", data=credit).fit()\n",
        "print(model3.summary())"
      ],
      "execution_count": 11,
      "outputs": [
        {
          "output_type": "stream",
          "text": [
            "                            OLS Regression Results                            \n",
            "==============================================================================\n",
            "Dep. Variable:                Balance   R-squared:                       0.955\n",
            "Model:                            OLS   Adj. R-squared:                  0.954\n",
            "Method:                 Least Squares   F-statistic:                     750.3\n",
            "Date:                Mon, 11 Mar 2019   Prob (F-statistic):          1.11e-253\n",
            "Time:                        23:32:30   Log-Likelihood:                -2398.7\n",
            "No. Observations:                 400   AIC:                             4821.\n",
            "Df Residuals:                     388   BIC:                             4869.\n",
            "Df Model:                          11                                         \n",
            "Covariance Type:            nonrobust                                         \n",
            "==========================================================================================\n",
            "                             coef    std err          t      P>|t|      [0.025      0.975]\n",
            "------------------------------------------------------------------------------------------\n",
            "Intercept               -489.8611     35.801    -13.683      0.000    -560.250    -419.473\n",
            "Gender[T.Male]            10.6532      9.914      1.075      0.283      -8.839      30.145\n",
            "Student[T.Yes]           425.7474     16.723     25.459      0.000     392.869     458.626\n",
            "Married[T.Yes]            -8.5339     10.363     -0.824      0.411     -28.908      11.841\n",
            "Ethnicity[T.Asian]        16.8042     14.119      1.190      0.235     -10.955      44.564\n",
            "Ethnicity[T.Caucasian]    10.1070     12.210      0.828      0.408     -13.899      34.113\n",
            "Income                    -7.8031      0.234    -33.314      0.000      -8.264      -7.343\n",
            "Limit                      0.1909      0.033      5.824      0.000       0.126       0.255\n",
            "Rating                     1.1365      0.491      2.315      0.021       0.171       2.102\n",
            "Cards                     17.7245      4.341      4.083      0.000       9.190      26.259\n",
            "Age                       -0.6139      0.294     -2.088      0.037      -1.192      -0.036\n",
            "Education                 -1.0989      1.598     -0.688      0.492      -4.241       2.043\n",
            "==============================================================================\n",
            "Omnibus:                       34.899   Durbin-Watson:                   1.968\n",
            "Prob(Omnibus):                  0.000   Jarque-Bera (JB):               41.766\n",
            "Skew:                           0.782   Prob(JB):                     8.52e-10\n",
            "Kurtosis:                       3.241   Cond. No.                     3.87e+04\n",
            "==============================================================================\n",
            "\n",
            "Warnings:\n",
            "[1] Standard Errors assume that the covariance matrix of the errors is correctly specified.\n",
            "[2] The condition number is large, 3.87e+04. This might indicate that there are\n",
            "strong multicollinearity or other numerical problems.\n"
          ],
          "name": "stdout"
        }
      ]
    }
  ]
}