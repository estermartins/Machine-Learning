{
  "nbformat": 4,
  "nbformat_minor": 0,
  "metadata": {
    "colab": {
      "name": "MLtitanic.ipynb",
      "version": "0.3.2",
      "provenance": [],
      "include_colab_link": true
    },
    "kernelspec": {
      "name": "python3",
      "display_name": "Python 3"
    }
  },
  "cells": [
    {
      "cell_type": "markdown",
      "metadata": {
        "id": "view-in-github",
        "colab_type": "text"
      },
      "source": [
        "<a href=\"https://colab.research.google.com/github/estermartins/Machine-Learning/blob/master/MLtitanic.ipynb\" target=\"_parent\"><img src=\"https://colab.research.google.com/assets/colab-badge.svg\" alt=\"Open In Colab\"/></a>"
      ]
    },
    {
      "metadata": {
        "id": "kuHGI8YJ7ILl",
        "colab_type": "text"
      },
      "cell_type": "markdown",
      "source": [
        "# MACHINE LEARNING\n",
        "\n",
        "Data: 25/03/2019\n",
        "\n",
        "Professor: Neylson Crepalde\n",
        "\n",
        "Ester Pereira Martins\n"
      ]
    },
    {
      "metadata": {
        "id": "QQgs_tbP7fv4",
        "colab_type": "text"
      },
      "cell_type": "markdown",
      "source": [
        "**Classificação - Regressão Logística**\n",
        "\n",
        "Vamos estimar modelos de regressão logística para entender as chances de sobrevivência mo Titanic a partir de atributos disponíveis."
      ]
    },
    {
      "metadata": {
        "id": "hkP_i-Rf7fDX",
        "colab_type": "code",
        "colab": {}
      },
      "cell_type": "code",
      "source": [
        "# Importar os módulo necessários\n",
        "import pandas as pd\n",
        "import numpy as np\n",
        "import matplotlib.pyplot as plt\n",
        "%matplotlib inline\n",
        "\n",
        "from statsmodels.discrete.discrete_model import Logit\n",
        "from sklearn.model_selection import train_test_split\n",
        "from sklearn.metrics import roc_auc_score"
      ],
      "execution_count": 0,
      "outputs": []
    },
    {
      "metadata": {
        "id": "kEtOmR6e7a5J",
        "colab_type": "code",
        "colab": {
          "base_uri": "https://localhost:8080/",
          "height": 204
        },
        "outputId": "0720bd40-ecc1-44ed-b58d-f11902f85f5a"
      },
      "cell_type": "code",
      "source": [
        "bd = pd.read_csv(\"https://raw.githubusercontent.com/rebeccabilbro/titanic/master/data/train.csv\")\n",
        "bd.head()"
      ],
      "execution_count": 3,
      "outputs": [
        {
          "output_type": "execute_result",
          "data": {
            "text/html": [
              "<div>\n",
              "<style scoped>\n",
              "    .dataframe tbody tr th:only-of-type {\n",
              "        vertical-align: middle;\n",
              "    }\n",
              "\n",
              "    .dataframe tbody tr th {\n",
              "        vertical-align: top;\n",
              "    }\n",
              "\n",
              "    .dataframe thead th {\n",
              "        text-align: right;\n",
              "    }\n",
              "</style>\n",
              "<table border=\"1\" class=\"dataframe\">\n",
              "  <thead>\n",
              "    <tr style=\"text-align: right;\">\n",
              "      <th></th>\n",
              "      <th>PassengerId</th>\n",
              "      <th>Survived</th>\n",
              "      <th>Pclass</th>\n",
              "      <th>Name</th>\n",
              "      <th>Sex</th>\n",
              "      <th>Age</th>\n",
              "      <th>SibSp</th>\n",
              "      <th>Parch</th>\n",
              "      <th>Ticket</th>\n",
              "      <th>Fare</th>\n",
              "      <th>Cabin</th>\n",
              "      <th>Embarked</th>\n",
              "    </tr>\n",
              "  </thead>\n",
              "  <tbody>\n",
              "    <tr>\n",
              "      <th>0</th>\n",
              "      <td>1</td>\n",
              "      <td>0</td>\n",
              "      <td>3</td>\n",
              "      <td>Braund, Mr. Owen Harris</td>\n",
              "      <td>male</td>\n",
              "      <td>22.0</td>\n",
              "      <td>1</td>\n",
              "      <td>0</td>\n",
              "      <td>A/5 21171</td>\n",
              "      <td>7.2500</td>\n",
              "      <td>NaN</td>\n",
              "      <td>S</td>\n",
              "    </tr>\n",
              "    <tr>\n",
              "      <th>1</th>\n",
              "      <td>2</td>\n",
              "      <td>1</td>\n",
              "      <td>1</td>\n",
              "      <td>Cumings, Mrs. John Bradley (Florence Briggs Th...</td>\n",
              "      <td>female</td>\n",
              "      <td>38.0</td>\n",
              "      <td>1</td>\n",
              "      <td>0</td>\n",
              "      <td>PC 17599</td>\n",
              "      <td>71.2833</td>\n",
              "      <td>C85</td>\n",
              "      <td>C</td>\n",
              "    </tr>\n",
              "    <tr>\n",
              "      <th>2</th>\n",
              "      <td>3</td>\n",
              "      <td>1</td>\n",
              "      <td>3</td>\n",
              "      <td>Heikkinen, Miss. Laina</td>\n",
              "      <td>female</td>\n",
              "      <td>26.0</td>\n",
              "      <td>0</td>\n",
              "      <td>0</td>\n",
              "      <td>STON/O2. 3101282</td>\n",
              "      <td>7.9250</td>\n",
              "      <td>NaN</td>\n",
              "      <td>S</td>\n",
              "    </tr>\n",
              "    <tr>\n",
              "      <th>3</th>\n",
              "      <td>4</td>\n",
              "      <td>1</td>\n",
              "      <td>1</td>\n",
              "      <td>Futrelle, Mrs. Jacques Heath (Lily May Peel)</td>\n",
              "      <td>female</td>\n",
              "      <td>35.0</td>\n",
              "      <td>1</td>\n",
              "      <td>0</td>\n",
              "      <td>113803</td>\n",
              "      <td>53.1000</td>\n",
              "      <td>C123</td>\n",
              "      <td>S</td>\n",
              "    </tr>\n",
              "    <tr>\n",
              "      <th>4</th>\n",
              "      <td>5</td>\n",
              "      <td>0</td>\n",
              "      <td>3</td>\n",
              "      <td>Allen, Mr. William Henry</td>\n",
              "      <td>male</td>\n",
              "      <td>35.0</td>\n",
              "      <td>0</td>\n",
              "      <td>0</td>\n",
              "      <td>373450</td>\n",
              "      <td>8.0500</td>\n",
              "      <td>NaN</td>\n",
              "      <td>S</td>\n",
              "    </tr>\n",
              "  </tbody>\n",
              "</table>\n",
              "</div>"
            ],
            "text/plain": [
              "   PassengerId  Survived  Pclass  \\\n",
              "0            1         0       3   \n",
              "1            2         1       1   \n",
              "2            3         1       3   \n",
              "3            4         1       1   \n",
              "4            5         0       3   \n",
              "\n",
              "                                                Name     Sex   Age  SibSp  \\\n",
              "0                            Braund, Mr. Owen Harris    male  22.0      1   \n",
              "1  Cumings, Mrs. John Bradley (Florence Briggs Th...  female  38.0      1   \n",
              "2                             Heikkinen, Miss. Laina  female  26.0      0   \n",
              "3       Futrelle, Mrs. Jacques Heath (Lily May Peel)  female  35.0      1   \n",
              "4                           Allen, Mr. William Henry    male  35.0      0   \n",
              "\n",
              "   Parch            Ticket     Fare Cabin Embarked  \n",
              "0      0         A/5 21171   7.2500   NaN        S  \n",
              "1      0          PC 17599  71.2833   C85        C  \n",
              "2      0  STON/O2. 3101282   7.9250   NaN        S  \n",
              "3      0            113803  53.1000  C123        S  \n",
              "4      0            373450   8.0500   NaN        S  "
            ]
          },
          "metadata": {
            "tags": []
          },
          "execution_count": 3
        }
      ]
    },
    {
      "metadata": {
        "id": "NK5QCN5i-VnL",
        "colab_type": "code",
        "colab": {
          "base_uri": "https://localhost:8080/",
          "height": 238
        },
        "outputId": "36a61128-8e50-4587-b485-6e748f02dc6c"
      },
      "cell_type": "code",
      "source": [
        "bd.dtypes"
      ],
      "execution_count": 4,
      "outputs": [
        {
          "output_type": "execute_result",
          "data": {
            "text/plain": [
              "PassengerId      int64\n",
              "Survived         int64\n",
              "Pclass           int64\n",
              "Name            object\n",
              "Sex             object\n",
              "Age            float64\n",
              "SibSp            int64\n",
              "Parch            int64\n",
              "Ticket          object\n",
              "Fare           float64\n",
              "Cabin           object\n",
              "Embarked        object\n",
              "dtype: object"
            ]
          },
          "metadata": {
            "tags": []
          },
          "execution_count": 4
        }
      ]
    },
    {
      "metadata": {
        "id": "E0wrYQzt_QV8",
        "colab_type": "code",
        "colab": {
          "base_uri": "https://localhost:8080/",
          "height": 238
        },
        "outputId": "a4332cf5-3dd5-40b7-eea9-1d7181c21d60"
      },
      "cell_type": "code",
      "source": [
        "bd[\"Pclass\"] = bd[\"Pclass\"].astype(\"category\")\n",
        "bd.dtypes"
      ],
      "execution_count": 5,
      "outputs": [
        {
          "output_type": "execute_result",
          "data": {
            "text/plain": [
              "PassengerId       int64\n",
              "Survived          int64\n",
              "Pclass         category\n",
              "Name             object\n",
              "Sex              object\n",
              "Age             float64\n",
              "SibSp             int64\n",
              "Parch             int64\n",
              "Ticket           object\n",
              "Fare            float64\n",
              "Cabin            object\n",
              "Embarked         object\n",
              "dtype: object"
            ]
          },
          "metadata": {
            "tags": []
          },
          "execution_count": 5
        }
      ]
    },
    {
      "metadata": {
        "id": "vPZH-HMW_PLk",
        "colab_type": "code",
        "colab": {
          "base_uri": "https://localhost:8080/",
          "height": 136
        },
        "outputId": "6a62f000-19d9-47c8-fe34-ffde3407e0af"
      },
      "cell_type": "code",
      "source": [
        "# Explicar sobrevivência pela idade, sexo e pela classe em que a pessoa estava viajando \n",
        "# Montanod o modelo\n",
        "# Y = Survived\n",
        "# X = Age, Sex, Pclass\n",
        "bd1 = pd.get_dummies(bd, drop_first=True)\n",
        "bd1.columns"
      ],
      "execution_count": 6,
      "outputs": [
        {
          "output_type": "execute_result",
          "data": {
            "text/plain": [
              "Index(['PassengerId', 'Survived', 'Age', 'SibSp', 'Parch', 'Fare', 'Pclass_2',\n",
              "       'Pclass_3', 'Name_Abbott, Mr. Rossmore Edward',\n",
              "       'Name_Abbott, Mrs. Stanton (Rosa Hunt)',\n",
              "       ...\n",
              "       'Cabin_F G63', 'Cabin_F G73', 'Cabin_F2', 'Cabin_F33', 'Cabin_F38',\n",
              "       'Cabin_F4', 'Cabin_G6', 'Cabin_T', 'Embarked_Q', 'Embarked_S'],\n",
              "      dtype='object', length=1727)"
            ]
          },
          "metadata": {
            "tags": []
          },
          "execution_count": 6
        }
      ]
    },
    {
      "metadata": {
        "id": "FYLRYNPb_P0U",
        "colab_type": "code",
        "colab": {
          "base_uri": "https://localhost:8080/",
          "height": 34
        },
        "outputId": "eabbb51a-f66f-4b7d-d780-0950c96ab6d3"
      },
      "cell_type": "code",
      "source": [
        "# Separendo as variáveis\n",
        "bd1 = bd1[[\"Age\", \"Sex_male\", \"Pclass_2\", \"Pclass_3\", \"Survived\"]]\n",
        "# Remover os NAs\n",
        "bd1=bd1.dropna()\n",
        "bd1.shape"
      ],
      "execution_count": 16,
      "outputs": [
        {
          "output_type": "execute_result",
          "data": {
            "text/plain": [
              "(714, 5)"
            ]
          },
          "metadata": {
            "tags": []
          },
          "execution_count": 16
        }
      ]
    },
    {
      "metadata": {
        "id": "ikpRIYteHGXB",
        "colab_type": "code",
        "colab": {
          "base_uri": "https://localhost:8080/",
          "height": 34
        },
        "outputId": "4b269721-ccc0-4574-fc35-fbc6a349c978"
      },
      "cell_type": "code",
      "source": [
        "# Criando as matrizes para a estimação \n",
        "\n",
        "y = bd1.Survived\n",
        "x = bd1[[\"Age\", \"Sex_male\", \"Pclass_2\", \"Pclass_3\"]]\n",
        "x.shape\n",
        "y.shape\n"
      ],
      "execution_count": 18,
      "outputs": [
        {
          "output_type": "execute_result",
          "data": {
            "text/plain": [
              "(714,)"
            ]
          },
          "metadata": {
            "tags": []
          },
          "execution_count": 18
        }
      ]
    },
    {
      "metadata": {
        "id": "RnWXsfSDIC8-",
        "colab_type": "code",
        "colab": {
          "base_uri": "https://localhost:8080/",
          "height": 34
        },
        "outputId": "92e12c37-ce48-4ca8-d23b-d60d1539172f"
      },
      "cell_type": "code",
      "source": [
        "x[\"intercept\"] = 1\n",
        "x.shape"
      ],
      "execution_count": 19,
      "outputs": [
        {
          "output_type": "execute_result",
          "data": {
            "text/plain": [
              "(714, 5)"
            ]
          },
          "metadata": {
            "tags": []
          },
          "execution_count": 19
        }
      ]
    },
    {
      "metadata": {
        "id": "CyiEQtaqJWMP",
        "colab_type": "code",
        "colab": {}
      },
      "cell_type": "code",
      "source": [
        "x_train, x_test, y_train, y_test = train_test_split(x, y , test_size=.3, random_state=1)"
      ],
      "execution_count": 0,
      "outputs": []
    },
    {
      "metadata": {
        "id": "4qAZ3jmvDx4q",
        "colab_type": "code",
        "colab": {
          "base_uri": "https://localhost:8080/",
          "height": 391
        },
        "outputId": "f91dc04f-9294-4a0e-edd0-5a31bdb74cfc"
      },
      "cell_type": "code",
      "source": [
        "# Estimar o modelo e visualizar os reultados \n",
        "model1 = Logit(y_train, x_train).fit()\n",
        "print(model1.summary2())"
      ],
      "execution_count": 23,
      "outputs": [
        {
          "output_type": "stream",
          "text": [
            "Optimization terminated successfully.\n",
            "         Current function value: 0.462052\n",
            "         Iterations 6\n",
            "                        Results: Logit\n",
            "===============================================================\n",
            "Model:              Logit            No. Iterations:   6.0000  \n",
            "Dependent Variable: Survived         Pseudo R-squared: 0.320   \n",
            "Date:               2019-03-25 23:19 AIC:              471.1283\n",
            "No. Observations:   499              BIC:              492.1913\n",
            "Df Model:           4                Log-Likelihood:   -230.56 \n",
            "Df Residuals:       494              LL-Null:          -339.28 \n",
            "Converged:          1.0000           Scale:            1.0000  \n",
            "----------------------------------------------------------------\n",
            "            Coef.   Std.Err.     z      P>|z|    [0.025   0.975]\n",
            "----------------------------------------------------------------\n",
            "Age        -0.0316    0.0090   -3.5110  0.0004  -0.0492  -0.0139\n",
            "Sex_male   -2.5629    0.2455  -10.4413  0.0000  -3.0440  -2.0818\n",
            "Pclass_2   -1.2833    0.3271   -3.9229  0.0001  -1.9245  -0.6422\n",
            "Pclass_3   -2.3819    0.3261   -7.3031  0.0000  -3.0211  -1.7426\n",
            "intercept   3.6067    0.4692    7.6867  0.0000   2.6871   4.5263\n",
            "===============================================================\n",
            "\n"
          ],
          "name": "stdout"
        }
      ]
    },
    {
      "metadata": {
        "id": "igAUZ-hIKeVJ",
        "colab_type": "code",
        "colab": {
          "base_uri": "https://localhost:8080/",
          "height": 119
        },
        "outputId": "7680a36c-4125-4c52-c531-c1e81cce9c84"
      },
      "cell_type": "code",
      "source": [
        "# Calcular as chances relativas\n",
        "np.exp(model1.params)"
      ],
      "execution_count": 24,
      "outputs": [
        {
          "output_type": "execute_result",
          "data": {
            "text/plain": [
              "Age           0.968918\n",
              "Sex_male      0.077081\n",
              "Pclass_2      0.277114\n",
              "Pclass_3      0.092376\n",
              "intercept    36.844502\n",
              "dtype: float64"
            ]
          },
          "metadata": {
            "tags": []
          },
          "execution_count": 24
        }
      ]
    },
    {
      "metadata": {
        "id": "NsQcIuRsLLPJ",
        "colab_type": "code",
        "colab": {}
      },
      "cell_type": "code",
      "source": [
        "def get_oddsperc(x): \n",
        "  res = (np.exp(x) - 1) * 100\n",
        "  return (res)"
      ],
      "execution_count": 0,
      "outputs": []
    },
    {
      "metadata": {
        "id": "_qYsDyENLX9t",
        "colab_type": "code",
        "colab": {
          "base_uri": "https://localhost:8080/",
          "height": 119
        },
        "outputId": "82defad0-9eef-4e83-f057-629e167bb10f"
      },
      "cell_type": "code",
      "source": [
        "get_oddsperc(model1.params)"
      ],
      "execution_count": 26,
      "outputs": [
        {
          "output_type": "execute_result",
          "data": {
            "text/plain": [
              "Age            -3.108190\n",
              "Sex_male      -92.291929\n",
              "Pclass_2      -72.288630\n",
              "Pclass_3      -90.762383\n",
              "intercept    3584.450154\n",
              "dtype: float64"
            ]
          },
          "metadata": {
            "tags": []
          },
          "execution_count": 26
        }
      ]
    },
    {
      "metadata": {
        "id": "n2z7Mx3OMKZT",
        "colab_type": "code",
        "colab": {
          "base_uri": "https://localhost:8080/",
          "height": 51
        },
        "outputId": "75214069-8937-4c40-af97-86c1b31c1256"
      },
      "cell_type": "code",
      "source": [
        "# Predizendo a minha chance de sobrevivência\n",
        "Ester = pd.DataFrame({\"Age\":19, \"Sex_male\":0, \"Pclass_2\": 0, \"Pclass_3\":1, \"intercept\":1}, index=[0])\n",
        "print(model1.predict(Ester))"
      ],
      "execution_count": 31,
      "outputs": [
        {
          "output_type": "stream",
          "text": [
            "0    0.848573\n",
            "dtype: float64\n"
          ],
          "name": "stdout"
        }
      ]
    }
  ]
}